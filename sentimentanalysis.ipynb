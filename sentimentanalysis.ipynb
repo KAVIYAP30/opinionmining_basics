{
  "nbformat": 4,
  "nbformat_minor": 0,
  "metadata": {
    "colab": {
      "provenance": []
    },
    "kernelspec": {
      "name": "python3",
      "display_name": "Python 3"
    },
    "language_info": {
      "name": "python"
    }
  },
  "cells": [
    {
      "cell_type": "code",
      "execution_count": 4,
      "metadata": {
        "colab": {
          "base_uri": "https://localhost:8080/"
        },
        "id": "FJOGylaYcoAn",
        "outputId": "d7557c90-60f9-4b0d-b16b-12385d80ae38"
      },
      "outputs": [
        {
          "output_type": "stream",
          "name": "stderr",
          "text": [
            "[nltk_data] Downloading package stopwords to /root/nltk_data...\n",
            "[nltk_data]   Package stopwords is already up-to-date!\n",
            "[nltk_data] Downloading package wordnet to /root/nltk_data...\n",
            "[nltk_data]   Package wordnet is already up-to-date!\n"
          ]
        },
        {
          "output_type": "stream",
          "name": "stdout",
          "text": [
            "                                                                                            content  \\\n",
            "0                                   Sometimes I’m not angry, I’m hurt and there’s a big difference.   \n",
            "1                                                                    Not available for busy people☺   \n",
            "2    I do not exist to impress the world. I exist to live my life in a way that will make me happy.   \n",
            "3                     Everything is getting expensive except some people, they are getting cheaper.   \n",
            "4                                                      My phone screen is brighter than my future 🙁   \n",
            "..                                                                                              ...   \n",
            "691                                                          Is getting close to just walking away?   \n",
            "692                                       Did you ever just want to slap the stupid out of someone?   \n",
            "693                                   Is singing, if you’re angry & you know it punches their face…   \n",
            "694                                   Telling someone to calm down just makes them so much angrier.   \n",
            "695                                   Your mistake is letting me go, my mistake was letting you in.   \n",
            "\n",
            "    sentiment  \\\n",
            "0       angry   \n",
            "1       angry   \n",
            "2       angry   \n",
            "3       angry   \n",
            "4       angry   \n",
            "..        ...   \n",
            "691     angry   \n",
            "692     angry   \n",
            "693     angry   \n",
            "694     angry   \n",
            "695     angry   \n",
            "\n",
            "                                                                                  cleaned_content  \\\n",
            "0                                   Sometimes I’m not angry I’m hurt and there’s a big difference   \n",
            "1                                                                  Not available for busy people☺   \n",
            "2    I do not exist to impress the world I exist to live my life in a way that will make me happy   \n",
            "3                     Everything is getting expensive except some people they are getting cheaper   \n",
            "4                                                    My phone screen is brighter than my future 🙁   \n",
            "..                                                                                            ...   \n",
            "691                                                         Is getting close to just walking away   \n",
            "692                                      Did you ever just want to slap the stupid out of someone   \n",
            "693                                   Is singing if you’re angry  you know it punches their face…   \n",
            "694                                  Telling someone to calm down just makes them so much angrier   \n",
            "695                                   Your mistake is letting me go my mistake was letting you in   \n",
            "\n",
            "                                                                                        msg_lower  \\\n",
            "0                                   sometimes i’m not angry i’m hurt and there’s a big difference   \n",
            "1                                                                  not available for busy people☺   \n",
            "2    i do not exist to impress the world i exist to live my life in a way that will make me happy   \n",
            "3                     everything is getting expensive except some people they are getting cheaper   \n",
            "4                                                    my phone screen is brighter than my future 🙁   \n",
            "..                                                                                            ...   \n",
            "691                                                         is getting close to just walking away   \n",
            "692                                      did you ever just want to slap the stupid out of someone   \n",
            "693                                   is singing if you’re angry  you know it punches their face…   \n",
            "694                                  telling someone to calm down just makes them so much angrier   \n",
            "695                                   your mistake is letting me go my mistake was letting you in   \n",
            "\n",
            "                                                                                                           msg_tokenized  \n",
            "0                                           [sometimes, i, m, not, angry, i, m, hurt, and, there, s, a, big, difference]  \n",
            "1                                                                                  [not, available, for, busy, people, ]  \n",
            "2    [i, do, not, exist, to, impress, the, world, i, exist, to, live, my, life, in, a, way, that, will, make, me, happy]  \n",
            "3                                [everything, is, getting, expensive, except, some, people, they, are, getting, cheaper]  \n",
            "4                                                                  [my, phone, screen, is, brighter, than, my, future, ]  \n",
            "..                                                                                                                   ...  \n",
            "691                                                                        [is, getting, close, to, just, walking, away]  \n",
            "692                                                [did, you, ever, just, want, to, slap, the, stupid, out, of, someone]  \n",
            "693                                             [is, singing, if, you, re, angry, you, know, it, punches, their, face, ]  \n",
            "694                                             [telling, someone, to, calm, down, just, makes, them, so, much, angrier]  \n",
            "695                                             [your, mistake, is, letting, me, go, my, mistake, was, letting, you, in]  \n",
            "\n",
            "[696 rows x 5 columns]\n"
          ]
        }
      ],
      "source": [
        "import string\n",
        "import pandas as pd\n",
        "import re\n",
        "import nltk\n",
        "from nltk.stem.porter import PorterStemmer\n",
        "from nltk.stem import WordNetLemmatizer\n",
        "nltk.download('stopwords')\n",
        "nltk.download('wordnet')\n",
        "\n",
        "\n",
        "data = pd.read_csv(\"/content/Emotion(angry).csv\")\n",
        "pd.set_option('display.max_colwidth', None)\n",
        "\n",
        "\n",
        "def remove_punctuation(text):\n",
        "    punctuation_free = \"\".join([i for i in text if i not in string.punctuation])\n",
        "    return punctuation_free\n",
        "\n",
        "\n",
        "data['cleaned_content'] = data['content'].apply(lambda x: remove_punctuation(x))\n",
        "data['msg_lower'] = data['cleaned_content'].apply(lambda x: x.lower())\n",
        "\n",
        "\n",
        "def tokenization(text):\n",
        "    tokens = re.split('\\W+', text)\n",
        "    return tokens\n",
        "\n",
        "\n",
        "data['msg_tokenized'] = data['msg_lower'].apply(lambda x: tokenization(x))\n",
        "\n",
        "\n",
        "stopwords = nltk.corpus.stopwords.words('english')\n",
        "\n",
        "\n",
        "def remove_stopwords(text):\n",
        "    output = [word for word in text if word.lower() not in stopwords]\n",
        "    return output\n",
        "\n",
        "\n",
        "print(data)\n"
      ]
    }
  ]
}